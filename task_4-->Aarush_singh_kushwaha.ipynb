{
  "cells": [
    {
      "cell_type": "code",
      "execution_count": 1,
      "metadata": {
        "_cell_guid": "29efc0a2-c7f4-431c-9c94-50e8aaa047c3",
        "_uuid": "b8062ed3-8836-400d-9eb1-e2a1f9642d1f",
        "execution": {
          "iopub.execute_input": "2024-05-22T09:57:24.258540Z",
          "iopub.status.busy": "2024-05-22T09:57:24.258176Z",
          "iopub.status.idle": "2024-05-22T09:57:25.103009Z",
          "shell.execute_reply": "2024-05-22T09:57:25.102256Z",
          "shell.execute_reply.started": "2024-05-22T09:57:24.258510Z"
        },
        "id": "yJepoWMz5LQv",
        "jupyter": {
          "outputs_hidden": false
        },
        "trusted": true
      },
      "outputs": [],
      "source": [
        "import pandas as pd\n",
        "import numpy as np\n",
        "import re\n",
        "from sklearn.feature_extraction.text import TfidfVectorizer\n",
        "from sklearn.metrics.pairwise import cosine_similarity\n",
        "from transformers import T5Tokenizer, T5ForConditionalGeneration"
      ]
    },
    {
      "cell_type": "code",
      "execution_count": 3,
      "metadata": {
        "execution": {
          "iopub.execute_input": "2024-05-22T09:57:27.085955Z",
          "iopub.status.busy": "2024-05-22T09:57:27.085550Z",
          "iopub.status.idle": "2024-05-22T09:57:46.064306Z",
          "shell.execute_reply": "2024-05-22T09:57:46.063366Z",
          "shell.execute_reply.started": "2024-05-22T09:57:27.085916Z"
        },
        "id": "nIq4cTss5LQz",
        "trusted": true
      },
      "outputs": [],
      "source": [
        "paragraph = pd.read_excel('/content/paragraphs.xlsx')"
      ]
    },
    {
      "cell_type": "markdown",
      "metadata": {
        "id": "BjyWpmEOL0ha"
      },
      "source": [
        "Preprocessing the data"
      ]
    },
    {
      "cell_type": "code",
      "execution_count": 4,
      "metadata": {
        "colab": {
          "base_uri": "https://localhost:8080/",
          "height": 423
        },
        "execution": {
          "iopub.execute_input": "2024-05-22T09:57:46.066902Z",
          "iopub.status.busy": "2024-05-22T09:57:46.066482Z",
          "iopub.status.idle": "2024-05-22T09:57:46.100483Z",
          "shell.execute_reply": "2024-05-22T09:57:46.099603Z",
          "shell.execute_reply.started": "2024-05-22T09:57:46.066875Z"
        },
        "id": "r0Sa0ZXq5LQz",
        "outputId": "5770ac11-96c1-490e-8d80-c0998beeab2b",
        "trusted": true
      },
      "outputs": [
        {
          "data": {
            "application/vnd.google.colaboratory.intrinsic+json": {
              "summary": "{\n  \"name\": \"paragraph\",\n  \"rows\": 75055,\n  \"fields\": [\n    {\n      \"column\": \"index\",\n      \"properties\": {\n        \"dtype\": \"number\",\n        \"std\": 37918.325962963114,\n        \"min\": 2.0,\n        \"max\": 130318.0,\n        \"num_unique_values\": 75054,\n        \"samples\": [\n          126091.0,\n          35830.0,\n          1022.0\n        ],\n        \"semantic_type\": \"\",\n        \"description\": \"\"\n      }\n    },\n    {\n      \"column\": \"word\",\n      \"properties\": {\n        \"dtype\": \"category\",\n        \"num_unique_values\": 362,\n        \"samples\": [\n          \"Madrasa\",\n          \"Theme\",\n          \"University_of_Kansas\"\n        ],\n        \"semantic_type\": \"\",\n        \"description\": \"\"\n      }\n    },\n    {\n      \"column\": \"para\",\n      \"properties\": {\n        \"dtype\": \"category\",\n        \"num_unique_values\": 15556,\n        \"samples\": [\n          \"Many of Yale's buildings were constructed in the Collegiate Gothic architecture style from 1917 to 1931, financed largely by Edward S. Harkness Stone sculpture built into the walls of the buildings portray contemporary college personalities such as a writer, an athlete, a tea-drinking socialite, and a student who has fallen asleep while reading. Similarly, the decorative friezes on the buildings depict contemporary scenes such as policemen chasing a robber and arresting a prostitute (on the wall of the Law School), or a student relaxing with a mug of beer and a cigarette. The architect, James Gamble Rogers, faux-aged these buildings by splashing the walls with acid, deliberately breaking their leaded glass windows and repairing them in the style of the Middle Ages, and creating niches for decorative statuary but leaving them empty to simulate loss or theft over the ages. In fact, the buildings merely simulate Middle Ages architecture, for though they appear to be constructed of solid stone blocks in the authentic manner, most actually have steel framing as was commonly used in 1930. One exception is Harkness Tower, 216 feet (66 m) tall, which was originally a free-standing stone structure. It was reinforced in 1964 to allow the installation of the Yale Memorial Carillon.\",\n          \"In addition to setting the international law, the United Nations initiated International Program on the Elimination of Child Labour (IPEC) in 1992. This initiative aims to progressively eliminate child labour through strengthening national capacities to address some of the causes of child labour. Amongst the key initiative is the so-called time-bounded programme countries, where child labour is most prevalent and schooling opportunities lacking. The initiative seeks to achieve amongst other things, universal primary school availability. The IPEC has expanded to at least the following target countries: Bangladesh, Brazil, China, Egypt, India, Indonesia, Mexico, Nigeria, Pakistan, Democratic Republic of Congo, El Salvador, Nepal, Tanzania, Dominican Republic, Costa Rica, Philippines, Senegal, South Africa and Turkey.\",\n          \"Dannatt criticised a remnant \\\"Cold War mentality\\\", with military expenditures based on retaining a capability against a direct conventional strategic threat; He said currently only 10% of the MoD's equipment programme budget between 2003 and 2018 was to be invested in the \\\"land environment\\\"\\u2014at a time when Britain was engaged in land-based wars in Afghanistan and Iraq.\"\n        ],\n        \"semantic_type\": \"\",\n        \"description\": \"\"\n      }\n    }\n  ]\n}",
              "type": "dataframe",
              "variable_name": "paragraph"
            },
            "text/html": [
              "\n",
              "  <div id=\"df-298db29e-6c82-4a7b-a8c8-538a756ab567\" class=\"colab-df-container\">\n",
              "    <div>\n",
              "<style scoped>\n",
              "    .dataframe tbody tr th:only-of-type {\n",
              "        vertical-align: middle;\n",
              "    }\n",
              "\n",
              "    .dataframe tbody tr th {\n",
              "        vertical-align: top;\n",
              "    }\n",
              "\n",
              "    .dataframe thead th {\n",
              "        text-align: right;\n",
              "    }\n",
              "</style>\n",
              "<table border=\"1\" class=\"dataframe\">\n",
              "  <thead>\n",
              "    <tr style=\"text-align: right;\">\n",
              "      <th></th>\n",
              "      <th>index</th>\n",
              "      <th>word</th>\n",
              "      <th>para</th>\n",
              "    </tr>\n",
              "  </thead>\n",
              "  <tbody>\n",
              "    <tr>\n",
              "      <th>0</th>\n",
              "      <td>25912.0</td>\n",
              "      <td>Zhejiang</td>\n",
              "      <td>Zhejiang (help·info), formerly romanized as C...</td>\n",
              "    </tr>\n",
              "    <tr>\n",
              "      <th>1</th>\n",
              "      <td>25913.0</td>\n",
              "      <td>Zhejiang</td>\n",
              "      <td>Zhejiang (help·info), formerly romanized as C...</td>\n",
              "    </tr>\n",
              "    <tr>\n",
              "      <th>2</th>\n",
              "      <td>25914.0</td>\n",
              "      <td>Zhejiang</td>\n",
              "      <td>Zhejiang (help·info), formerly romanized as C...</td>\n",
              "    </tr>\n",
              "    <tr>\n",
              "      <th>3</th>\n",
              "      <td>25915.0</td>\n",
              "      <td>Zhejiang</td>\n",
              "      <td>Zhejiang (help·info), formerly romanized as C...</td>\n",
              "    </tr>\n",
              "    <tr>\n",
              "      <th>4</th>\n",
              "      <td>25916.0</td>\n",
              "      <td>Zhejiang</td>\n",
              "      <td>Zhejiang (help·info), formerly romanized as C...</td>\n",
              "    </tr>\n",
              "    <tr>\n",
              "      <th>...</th>\n",
              "      <td>...</td>\n",
              "      <td>...</td>\n",
              "      <td>...</td>\n",
              "    </tr>\n",
              "    <tr>\n",
              "      <th>75050</th>\n",
              "      <td>7437.0</td>\n",
              "      <td>2008_Summer_Olympics_torch_relay</td>\n",
              "      <td>Two additional teams of 40 attendants each wil...</td>\n",
              "    </tr>\n",
              "    <tr>\n",
              "      <th>75051</th>\n",
              "      <td>1059.0</td>\n",
              "      <td>NaN</td>\n",
              "      <td>Although the two displayed great respect and a...</td>\n",
              "    </tr>\n",
              "    <tr>\n",
              "      <th>75052</th>\n",
              "      <td>3509.0</td>\n",
              "      <td>NaN</td>\n",
              "      <td>On August 24, 1673, Dutch captain Anthonio Col...</td>\n",
              "    </tr>\n",
              "    <tr>\n",
              "      <th>75053</th>\n",
              "      <td>78743.0</td>\n",
              "      <td>NaN</td>\n",
              "      <td>Eton has a long list of distinguished former p...</td>\n",
              "    </tr>\n",
              "    <tr>\n",
              "      <th>75054</th>\n",
              "      <td>94006.0</td>\n",
              "      <td>NaN</td>\n",
              "      <td>After the Treaty of Utrecht (1713), Sicily was...</td>\n",
              "    </tr>\n",
              "  </tbody>\n",
              "</table>\n",
              "<p>75055 rows × 3 columns</p>\n",
              "</div>\n",
              "    <div class=\"colab-df-buttons\">\n",
              "\n",
              "  <div class=\"colab-df-container\">\n",
              "    <button class=\"colab-df-convert\" onclick=\"convertToInteractive('df-298db29e-6c82-4a7b-a8c8-538a756ab567')\"\n",
              "            title=\"Convert this dataframe to an interactive table.\"\n",
              "            style=\"display:none;\">\n",
              "\n",
              "  <svg xmlns=\"http://www.w3.org/2000/svg\" height=\"24px\" viewBox=\"0 -960 960 960\">\n",
              "    <path d=\"M120-120v-720h720v720H120Zm60-500h600v-160H180v160Zm220 220h160v-160H400v160Zm0 220h160v-160H400v160ZM180-400h160v-160H180v160Zm440 0h160v-160H620v160ZM180-180h160v-160H180v160Zm440 0h160v-160H620v160Z\"/>\n",
              "  </svg>\n",
              "    </button>\n",
              "\n",
              "  <style>\n",
              "    .colab-df-container {\n",
              "      display:flex;\n",
              "      gap: 12px;\n",
              "    }\n",
              "\n",
              "    .colab-df-convert {\n",
              "      background-color: #E8F0FE;\n",
              "      border: none;\n",
              "      border-radius: 50%;\n",
              "      cursor: pointer;\n",
              "      display: none;\n",
              "      fill: #1967D2;\n",
              "      height: 32px;\n",
              "      padding: 0 0 0 0;\n",
              "      width: 32px;\n",
              "    }\n",
              "\n",
              "    .colab-df-convert:hover {\n",
              "      background-color: #E2EBFA;\n",
              "      box-shadow: 0px 1px 2px rgba(60, 64, 67, 0.3), 0px 1px 3px 1px rgba(60, 64, 67, 0.15);\n",
              "      fill: #174EA6;\n",
              "    }\n",
              "\n",
              "    .colab-df-buttons div {\n",
              "      margin-bottom: 4px;\n",
              "    }\n",
              "\n",
              "    [theme=dark] .colab-df-convert {\n",
              "      background-color: #3B4455;\n",
              "      fill: #D2E3FC;\n",
              "    }\n",
              "\n",
              "    [theme=dark] .colab-df-convert:hover {\n",
              "      background-color: #434B5C;\n",
              "      box-shadow: 0px 1px 3px 1px rgba(0, 0, 0, 0.15);\n",
              "      filter: drop-shadow(0px 1px 2px rgba(0, 0, 0, 0.3));\n",
              "      fill: #FFFFFF;\n",
              "    }\n",
              "  </style>\n",
              "\n",
              "    <script>\n",
              "      const buttonEl =\n",
              "        document.querySelector('#df-298db29e-6c82-4a7b-a8c8-538a756ab567 button.colab-df-convert');\n",
              "      buttonEl.style.display =\n",
              "        google.colab.kernel.accessAllowed ? 'block' : 'none';\n",
              "\n",
              "      async function convertToInteractive(key) {\n",
              "        const element = document.querySelector('#df-298db29e-6c82-4a7b-a8c8-538a756ab567');\n",
              "        const dataTable =\n",
              "          await google.colab.kernel.invokeFunction('convertToInteractive',\n",
              "                                                    [key], {});\n",
              "        if (!dataTable) return;\n",
              "\n",
              "        const docLinkHtml = 'Like what you see? Visit the ' +\n",
              "          '<a target=\"_blank\" href=https://colab.research.google.com/notebooks/data_table.ipynb>data table notebook</a>'\n",
              "          + ' to learn more about interactive tables.';\n",
              "        element.innerHTML = '';\n",
              "        dataTable['output_type'] = 'display_data';\n",
              "        await google.colab.output.renderOutput(dataTable, element);\n",
              "        const docLink = document.createElement('div');\n",
              "        docLink.innerHTML = docLinkHtml;\n",
              "        element.appendChild(docLink);\n",
              "      }\n",
              "    </script>\n",
              "  </div>\n",
              "\n",
              "\n",
              "<div id=\"df-60d98842-8742-4da2-94f1-cd265d9e25b8\">\n",
              "  <button class=\"colab-df-quickchart\" onclick=\"quickchart('df-60d98842-8742-4da2-94f1-cd265d9e25b8')\"\n",
              "            title=\"Suggest charts\"\n",
              "            style=\"display:none;\">\n",
              "\n",
              "<svg xmlns=\"http://www.w3.org/2000/svg\" height=\"24px\"viewBox=\"0 0 24 24\"\n",
              "     width=\"24px\">\n",
              "    <g>\n",
              "        <path d=\"M19 3H5c-1.1 0-2 .9-2 2v14c0 1.1.9 2 2 2h14c1.1 0 2-.9 2-2V5c0-1.1-.9-2-2-2zM9 17H7v-7h2v7zm4 0h-2V7h2v10zm4 0h-2v-4h2v4z\"/>\n",
              "    </g>\n",
              "</svg>\n",
              "  </button>\n",
              "\n",
              "<style>\n",
              "  .colab-df-quickchart {\n",
              "      --bg-color: #E8F0FE;\n",
              "      --fill-color: #1967D2;\n",
              "      --hover-bg-color: #E2EBFA;\n",
              "      --hover-fill-color: #174EA6;\n",
              "      --disabled-fill-color: #AAA;\n",
              "      --disabled-bg-color: #DDD;\n",
              "  }\n",
              "\n",
              "  [theme=dark] .colab-df-quickchart {\n",
              "      --bg-color: #3B4455;\n",
              "      --fill-color: #D2E3FC;\n",
              "      --hover-bg-color: #434B5C;\n",
              "      --hover-fill-color: #FFFFFF;\n",
              "      --disabled-bg-color: #3B4455;\n",
              "      --disabled-fill-color: #666;\n",
              "  }\n",
              "\n",
              "  .colab-df-quickchart {\n",
              "    background-color: var(--bg-color);\n",
              "    border: none;\n",
              "    border-radius: 50%;\n",
              "    cursor: pointer;\n",
              "    display: none;\n",
              "    fill: var(--fill-color);\n",
              "    height: 32px;\n",
              "    padding: 0;\n",
              "    width: 32px;\n",
              "  }\n",
              "\n",
              "  .colab-df-quickchart:hover {\n",
              "    background-color: var(--hover-bg-color);\n",
              "    box-shadow: 0 1px 2px rgba(60, 64, 67, 0.3), 0 1px 3px 1px rgba(60, 64, 67, 0.15);\n",
              "    fill: var(--button-hover-fill-color);\n",
              "  }\n",
              "\n",
              "  .colab-df-quickchart-complete:disabled,\n",
              "  .colab-df-quickchart-complete:disabled:hover {\n",
              "    background-color: var(--disabled-bg-color);\n",
              "    fill: var(--disabled-fill-color);\n",
              "    box-shadow: none;\n",
              "  }\n",
              "\n",
              "  .colab-df-spinner {\n",
              "    border: 2px solid var(--fill-color);\n",
              "    border-color: transparent;\n",
              "    border-bottom-color: var(--fill-color);\n",
              "    animation:\n",
              "      spin 1s steps(1) infinite;\n",
              "  }\n",
              "\n",
              "  @keyframes spin {\n",
              "    0% {\n",
              "      border-color: transparent;\n",
              "      border-bottom-color: var(--fill-color);\n",
              "      border-left-color: var(--fill-color);\n",
              "    }\n",
              "    20% {\n",
              "      border-color: transparent;\n",
              "      border-left-color: var(--fill-color);\n",
              "      border-top-color: var(--fill-color);\n",
              "    }\n",
              "    30% {\n",
              "      border-color: transparent;\n",
              "      border-left-color: var(--fill-color);\n",
              "      border-top-color: var(--fill-color);\n",
              "      border-right-color: var(--fill-color);\n",
              "    }\n",
              "    40% {\n",
              "      border-color: transparent;\n",
              "      border-right-color: var(--fill-color);\n",
              "      border-top-color: var(--fill-color);\n",
              "    }\n",
              "    60% {\n",
              "      border-color: transparent;\n",
              "      border-right-color: var(--fill-color);\n",
              "    }\n",
              "    80% {\n",
              "      border-color: transparent;\n",
              "      border-right-color: var(--fill-color);\n",
              "      border-bottom-color: var(--fill-color);\n",
              "    }\n",
              "    90% {\n",
              "      border-color: transparent;\n",
              "      border-bottom-color: var(--fill-color);\n",
              "    }\n",
              "  }\n",
              "</style>\n",
              "\n",
              "  <script>\n",
              "    async function quickchart(key) {\n",
              "      const quickchartButtonEl =\n",
              "        document.querySelector('#' + key + ' button');\n",
              "      quickchartButtonEl.disabled = true;  // To prevent multiple clicks.\n",
              "      quickchartButtonEl.classList.add('colab-df-spinner');\n",
              "      try {\n",
              "        const charts = await google.colab.kernel.invokeFunction(\n",
              "            'suggestCharts', [key], {});\n",
              "      } catch (error) {\n",
              "        console.error('Error during call to suggestCharts:', error);\n",
              "      }\n",
              "      quickchartButtonEl.classList.remove('colab-df-spinner');\n",
              "      quickchartButtonEl.classList.add('colab-df-quickchart-complete');\n",
              "    }\n",
              "    (() => {\n",
              "      let quickchartButtonEl =\n",
              "        document.querySelector('#df-60d98842-8742-4da2-94f1-cd265d9e25b8 button');\n",
              "      quickchartButtonEl.style.display =\n",
              "        google.colab.kernel.accessAllowed ? 'block' : 'none';\n",
              "    })();\n",
              "  </script>\n",
              "</div>\n",
              "\n",
              "  <div id=\"id_10667d45-4171-4633-897a-cd0f07e6e104\">\n",
              "    <style>\n",
              "      .colab-df-generate {\n",
              "        background-color: #E8F0FE;\n",
              "        border: none;\n",
              "        border-radius: 50%;\n",
              "        cursor: pointer;\n",
              "        display: none;\n",
              "        fill: #1967D2;\n",
              "        height: 32px;\n",
              "        padding: 0 0 0 0;\n",
              "        width: 32px;\n",
              "      }\n",
              "\n",
              "      .colab-df-generate:hover {\n",
              "        background-color: #E2EBFA;\n",
              "        box-shadow: 0px 1px 2px rgba(60, 64, 67, 0.3), 0px 1px 3px 1px rgba(60, 64, 67, 0.15);\n",
              "        fill: #174EA6;\n",
              "      }\n",
              "\n",
              "      [theme=dark] .colab-df-generate {\n",
              "        background-color: #3B4455;\n",
              "        fill: #D2E3FC;\n",
              "      }\n",
              "\n",
              "      [theme=dark] .colab-df-generate:hover {\n",
              "        background-color: #434B5C;\n",
              "        box-shadow: 0px 1px 3px 1px rgba(0, 0, 0, 0.15);\n",
              "        filter: drop-shadow(0px 1px 2px rgba(0, 0, 0, 0.3));\n",
              "        fill: #FFFFFF;\n",
              "      }\n",
              "    </style>\n",
              "    <button class=\"colab-df-generate\" onclick=\"generateWithVariable('paragraph')\"\n",
              "            title=\"Generate code using this dataframe.\"\n",
              "            style=\"display:none;\">\n",
              "\n",
              "  <svg xmlns=\"http://www.w3.org/2000/svg\" height=\"24px\"viewBox=\"0 0 24 24\"\n",
              "       width=\"24px\">\n",
              "    <path d=\"M7,19H8.4L18.45,9,17,7.55,7,17.6ZM5,21V16.75L18.45,3.32a2,2,0,0,1,2.83,0l1.4,1.43a1.91,1.91,0,0,1,.58,1.4,1.91,1.91,0,0,1-.58,1.4L9.25,21ZM18.45,9,17,7.55Zm-12,3A5.31,5.31,0,0,0,4.9,8.1,5.31,5.31,0,0,0,1,6.5,5.31,5.31,0,0,0,4.9,4.9,5.31,5.31,0,0,0,6.5,1,5.31,5.31,0,0,0,8.1,4.9,5.31,5.31,0,0,0,12,6.5,5.46,5.46,0,0,0,6.5,12Z\"/>\n",
              "  </svg>\n",
              "    </button>\n",
              "    <script>\n",
              "      (() => {\n",
              "      const buttonEl =\n",
              "        document.querySelector('#id_10667d45-4171-4633-897a-cd0f07e6e104 button.colab-df-generate');\n",
              "      buttonEl.style.display =\n",
              "        google.colab.kernel.accessAllowed ? 'block' : 'none';\n",
              "\n",
              "      buttonEl.onclick = () => {\n",
              "        google.colab.notebook.generateWithVariable('paragraph');\n",
              "      }\n",
              "      })();\n",
              "    </script>\n",
              "  </div>\n",
              "\n",
              "    </div>\n",
              "  </div>\n"
            ],
            "text/plain": [
              "         index                              word  \\\n",
              "0      25912.0                          Zhejiang   \n",
              "1      25913.0                          Zhejiang   \n",
              "2      25914.0                          Zhejiang   \n",
              "3      25915.0                          Zhejiang   \n",
              "4      25916.0                          Zhejiang   \n",
              "...        ...                               ...   \n",
              "75050   7437.0  2008_Summer_Olympics_torch_relay   \n",
              "75051   1059.0                               NaN   \n",
              "75052   3509.0                               NaN   \n",
              "75053  78743.0                               NaN   \n",
              "75054  94006.0                               NaN   \n",
              "\n",
              "                                                    para  \n",
              "0       Zhejiang (help·info), formerly romanized as C...  \n",
              "1       Zhejiang (help·info), formerly romanized as C...  \n",
              "2       Zhejiang (help·info), formerly romanized as C...  \n",
              "3       Zhejiang (help·info), formerly romanized as C...  \n",
              "4       Zhejiang (help·info), formerly romanized as C...  \n",
              "...                                                  ...  \n",
              "75050  Two additional teams of 40 attendants each wil...  \n",
              "75051  Although the two displayed great respect and a...  \n",
              "75052  On August 24, 1673, Dutch captain Anthonio Col...  \n",
              "75053  Eton has a long list of distinguished former p...  \n",
              "75054  After the Treaty of Utrecht (1713), Sicily was...  \n",
              "\n",
              "[75055 rows x 3 columns]"
            ]
          },
          "execution_count": 4,
          "metadata": {},
          "output_type": "execute_result"
        }
      ],
      "source": [
        "paragraph.columns = ['index','word','para']\n",
        "paragraph"
      ]
    },
    {
      "cell_type": "code",
      "execution_count": 5,
      "metadata": {
        "execution": {
          "iopub.execute_input": "2024-05-22T09:57:46.102087Z",
          "iopub.status.busy": "2024-05-22T09:57:46.101747Z",
          "iopub.status.idle": "2024-05-22T09:57:46.109988Z",
          "shell.execute_reply": "2024-05-22T09:57:46.109158Z",
          "shell.execute_reply.started": "2024-05-22T09:57:46.102048Z"
        },
        "id": "LTy7prRD5LQ1",
        "trusted": true
      },
      "outputs": [],
      "source": [
        "list_of_words = paragraph['word'].unique()"
      ]
    },
    {
      "cell_type": "code",
      "execution_count": 6,
      "metadata": {
        "colab": {
          "base_uri": "https://localhost:8080/"
        },
        "execution": {
          "iopub.execute_input": "2024-05-22T09:57:46.111213Z",
          "iopub.status.busy": "2024-05-22T09:57:46.110985Z",
          "iopub.status.idle": "2024-05-22T09:57:46.122819Z",
          "shell.execute_reply": "2024-05-22T09:57:46.121863Z",
          "shell.execute_reply.started": "2024-05-22T09:57:46.111194Z"
        },
        "id": "vTwCGQDz5LQ2",
        "outputId": "d58c1ad9-e50a-41c5-a4b4-d0f12a574583",
        "trusted": true
      },
      "outputs": [
        {
          "data": {
            "text/plain": [
              "array(['Zhejiang', 'YouTube', 'Yale_University', 'Xbox_360', 'Wood',\n",
              "       'Windows_8', 'Westminster_Abbey', 'War_on_Terror', 'Virgil',\n",
              "       'Videoconferencing', 'Valencia', 'Vacuum', 'USB', 'Uranium',\n",
              "       'University_of_Notre_Dame', 'University_of_Kansas', 'University',\n",
              "       'Universal_Studios', 'United_States_presidential_election,_2004',\n",
              "       'United_States_Army', 'United_States_Air_Force',\n",
              "       'United_Nations_Population_Fund', 'Unicode', 'Umayyad_Caliphate',\n",
              "       'Tuvalu', 'Turner_Classic_Movies', 'Tucson,_Arizona',\n",
              "       'Tristan_da_Cunha', 'Treaty', 'Translation',\n",
              "       'To_Kill_a_Mockingbird', 'Time', 'Thuringia', 'Theme',\n",
              "       'The_Sun_(United_Kingdom)',\n",
              "       'The_Legend_of_Zelda:_Twilight_Princess', 'The_Bronx', 'The_Blitz',\n",
              "       'Textual_criticism', 'Tennessee', 'Tajikistan', 'Szlachta',\n",
              "       'Symbiosis', 'Switzerland', 'Swaziland', 'Supreme_court',\n",
              "       'Super_Nintendo_Entertainment_System', 'Sumer', 'Strasbourg',\n",
              "       'Steven_Spielberg', 'States_of_Germany',\n",
              "       'St._John%27s,_Newfoundland_and_Labrador', 'Spectre_(2015_film)',\n",
              "       'Spanish_language_in_the_United_States', 'Space_Race',\n",
              "       'Southern_Europe', 'Southeast_Asia', 'Sony_Music_Entertainment',\n",
              "       'Somerset', 'Somalis', 'Solar_energy', 'Software_testing', 'Slavs',\n",
              "       'Sino-Tibetan_relations_during_the_Ming_dynasty', 'Sichuan',\n",
              "       'Sexual_orientation', 'Seven_Years%27_War', 'Serbo-Croatian',\n",
              "       'Separation_of_powers_under_the_United_States_Constitution',\n",
              "       'Separation_of_church_and_state_in_the_United_States', 'Seattle',\n",
              "       'Santa_Monica,_California', 'San_Diego', 'Samurai', 'Samoa',\n",
              "       'Saint_Helena', 'Saint_Barth%C3%A9lemy', 'Sahara',\n",
              "       'Russian_Soviet_Federative_Socialist_Republic', 'Russian_language',\n",
              "       'Rule_of_law', 'Royal_Institute_of_British_Architects',\n",
              "       'Royal_Dutch_Shell', 'Royal_assent', 'Roman_Republic',\n",
              "       'Republic_of_the_Congo', 'Renewable_energy_commercialization',\n",
              "       'Religion_in_ancient_Rome', 'Red', 'Raleigh,_North_Carolina',\n",
              "       'Rajasthan', 'Railway_electrification_system',\n",
              "       'Race_and_ethnicity_in_the_United_States_Census',\n",
              "       'Race_(human_categorization)', 'Quran', 'Queen_Victoria',\n",
              "       'Queen_(band)', 'Qing_dynasty', 'Punjab,_Pakistan',\n",
              "       'Professional_wrestling', 'Printed_circuit_board',\n",
              "       'Prime_minister', 'Presbyterianism', 'Premier_League', 'Predation',\n",
              "       'Portugal', 'Pope_Paul_VI', 'Pope_John_XXIII',\n",
              "       'Political_philosophy', 'Political_corruption', 'Police',\n",
              "       'Plymouth', 'PlayStation_3', 'Pitch_(music)', 'Phonology',\n",
              "       'Philosophy_of_space_and_time', 'Philadelphia',\n",
              "       'Pharmaceutical_industry', 'Pesticide',\n",
              "       'Party_leaders_of_the_United_States_House_of_Representatives',\n",
              "       'Paris', 'Palermo', 'Pain', 'Pacific_War', 'Ottoman_Empire',\n",
              "       'Orthodox_Judaism', 'Old_English', 'Oklahoma_City',\n",
              "       'Northwestern_University', 'Norfolk_Island',\n",
              "       'Nonprofit_organization', 'Nintendo_Entertainment_System',\n",
              "       'Nigeria', 'New_York_City', 'New_Haven,_Connecticut', 'New_Delhi',\n",
              "       'Neolithic', 'Neoclassical_architecture', 'Near_East',\n",
              "       'National_Archives_and_Records_Administration', 'Napoleon',\n",
              "       'Namibia', 'Myocardial_infarction', 'Myanmar',\n",
              "       'Multiracial_American', 'MP3', 'Mosaic', 'Montana',\n",
              "       'Molotov%E2%80%93Ribbentrop_Pact', 'Modern_history',\n",
              "       'Ministry_of_Defence_(United_Kingdom)',\n",
              "       'Military_history_of_the_United_States', 'Middle_Ages', 'Miami',\n",
              "       'Mexico_City', 'Mesozoic', 'Memory', 'Melbourne', 'Matter',\n",
              "       'Marshall_Islands', 'Mandolin', 'Mammal', 'Mali', 'Madrasa',\n",
              "       'Madonna_(entertainer)', 'Macintosh', 'London', 'Literature',\n",
              "       'List_of_numbered_streets_in_Manhattan', 'Lighting',\n",
              "       'Light-emitting_diode', 'Liberia', 'Liberal_Party_of_Australia',\n",
              "       'Letter_case', 'Law_of_the_United_States', 'Late_Middle_Ages',\n",
              "       'LaserDisc', 'Lancashire', 'Labour_Party_(UK)', 'Korean_War',\n",
              "       'Kathmandu', 'Kanye_West', 'Josip_Broz_Tito',\n",
              "       'John,_King_of_England', 'John_von_Neumann', 'John_Kerry', 'Jews',\n",
              "       'Jehovah%27s_Witnesses', 'Israel', 'Iranian_languages', 'Iran',\n",
              "       'Internet_service_provider', 'Intellectual_property',\n",
              "       'Institute_of_technology', 'Insect', 'Infrared', 'Infection',\n",
              "       'Indigenous_peoples_of_the_Americas', 'Incandescent_light_bulb',\n",
              "       'Imperial_College_London', 'Identity_(social_science)', 'Idealism',\n",
              "       'IBM', 'Hydrogen', 'Hyderabad', 'Hunting', 'Hunter-gatherer',\n",
              "       'Humanism', 'Houston', 'House_music', 'Hokkien',\n",
              "       'History_of_science', 'History_of_India', 'Hindu_philosophy',\n",
              "       'Himachal_Pradesh', 'High-definition_television',\n",
              "       'Hellenistic_period', 'Hanover', 'Gymnastics', 'Guinea-Bissau',\n",
              "       'Guam', 'Gregorian_calendar', 'Green', 'Greeks', 'Greece',\n",
              "       'Great_power', 'Gramophone_record', 'Gothic_architecture', 'Glass',\n",
              "       'Glacier', 'Germans', 'Georgian_architecture', 'George_VI',\n",
              "       'Geological_history_of_Earth', 'Geography_of_the_United_States',\n",
              "       'Genome', 'Genocide', 'General_Electric', 'Gene',\n",
              "       'Gamal_Abdel_Nasser', 'Galicia_(Spain)', 'Friedrich_Hayek',\n",
              "       'Frédéric_Chopin', 'Franco-Prussian_War', 'Flowering_plant',\n",
              "       'Florida', 'Financial_crisis_of_2007%E2%80%9308', 'Film_speed',\n",
              "       'Federalism', 'Federal_Aviation_Administration', 'FC_Barcelona',\n",
              "       'FA_Cup', 'Exhibition_game', 'Eton_College', 'Estonian_language',\n",
              "       'Estonia', 'Eritrea', 'England_national_football_team', 'Energy',\n",
              "       'Empiricism', 'Emotion', 'Elevator', 'Education', 'Edmund_Burke',\n",
              "       'Economy_of_Greece', 'East_Prussia', 'East_India_Company',\n",
              "       'Dwight_D._Eisenhower', 'Dutch_Republic', 'Dutch_language',\n",
              "       'Dominican_Order', 'Dog', 'Dissolution_of_the_Soviet_Union',\n",
              "       'Digimon', 'Digestion', 'Diarrhea', 'Detroit', 'Dell',\n",
              "       'Daylight_saving_time', 'Database', 'Data_compression',\n",
              "       'Czech_language', 'Cyprus', 'Culture', 'Cubism',\n",
              "       'Crucifixion_of_Jesus', 'Crimean_War', 'Cotton', 'Cork_(city)',\n",
              "       'Copyright_infringement', 'Copper', 'Computer_security',\n",
              "       'Computer', 'Comprehensive_school', 'Compact_disc',\n",
              "       'Communications_in_Somalia', 'Communication', 'Comics',\n",
              "       'Classical_music', 'Circadian_rhythm', 'Christian', 'Child_labour',\n",
              "       'Chihuahua_(state)', 'Chicago_Cubs', 'Charleston,_South_Carolina',\n",
              "       'Central_African_Republic', 'CBC_Television', 'Carnival',\n",
              "       'Canon_law', 'Canadian_football', 'Buddhism', 'Buckingham_Palace',\n",
              "       'British_Isles', 'British_Empire', 'Brigham_Young_University',\n",
              "       'Bras%C3%ADlia', 'Brain', 'Botany', 'Boston', 'Black_people',\n",
              "       'Bird_migration', 'Bird', 'Bill_%26_Melinda_Gates_Foundation',\n",
              "       'Beyoncé', 'Bern', 'BeiDou_Navigation_Satellite_System', 'Beer',\n",
              "       'BBC_Television', 'Baptists', 'Bacteria', 'Avicenna',\n",
              "       'Atlantic_City,_New_Jersey', 'Asthma', 'Association_football',\n",
              "       'Aspirated_consonant', 'Asphalt', 'Ashkenazi_Jews', 'ASCII',\n",
              "       'Arsenal_F.C.', 'Arnold_Schwarzenegger', 'Armenians',\n",
              "       'Arena_Football_League', 'Architecture', 'Apollo', 'Antibiotics',\n",
              "       'Anthropology', 'Antarctica', 'Annelid', 'Ann_Arbor,_Michigan',\n",
              "       'Animal', 'American_Idol', 'Alsace', 'Alps',\n",
              "       'Alfred_North_Whitehead', 'Alexander_Graham_Bell', 'Alaska',\n",
              "       'Airport', 'Aircraft_carrier',\n",
              "       'Affirmative_action_in_the_United_States', 'Adolescence',\n",
              "       'A_cappella', '2008_Summer_Olympics_torch_relay', nan],\n",
              "      dtype=object)"
            ]
          },
          "execution_count": 6,
          "metadata": {},
          "output_type": "execute_result"
        }
      ],
      "source": [
        "list_of_words"
      ]
    },
    {
      "cell_type": "code",
      "execution_count": 7,
      "metadata": {
        "execution": {
          "iopub.execute_input": "2024-05-22T09:57:46.124397Z",
          "iopub.status.busy": "2024-05-22T09:57:46.124123Z",
          "iopub.status.idle": "2024-05-22T09:57:46.299881Z",
          "shell.execute_reply": "2024-05-22T09:57:46.299064Z",
          "shell.execute_reply.started": "2024-05-22T09:57:46.124369Z"
        },
        "id": "L5u9SBOA5LQ2",
        "trusted": true
      },
      "outputs": [],
      "source": [
        "# Function that removes special characters from the text ie all characters except numbers and alphabets.\n",
        "def replace_special_characters_with_space(x):\n",
        "    return re.sub(r'[^a-zA-Z0-9]', ' ', str(x))\n",
        "\n",
        "# Applying the function to the word column\n",
        "paragraph['word'] = paragraph['word'].map(replace_special_characters_with_space)"
      ]
    },
    {
      "cell_type": "code",
      "execution_count": 8,
      "metadata": {
        "colab": {
          "base_uri": "https://localhost:8080/",
          "height": 36
        },
        "execution": {
          "iopub.execute_input": "2024-05-22T09:57:46.301266Z",
          "iopub.status.busy": "2024-05-22T09:57:46.301009Z",
          "iopub.status.idle": "2024-05-22T09:57:46.307098Z",
          "shell.execute_reply": "2024-05-22T09:57:46.306085Z",
          "shell.execute_reply.started": "2024-05-22T09:57:46.301243Z"
        },
        "id": "rdi_5EA05LQ3",
        "outputId": "f07702e8-1015-41e0-8d5e-75129e2208b6",
        "trusted": true
      },
      "outputs": [
        {
          "data": {
            "application/vnd.google.colaboratory.intrinsic+json": {
              "type": "string"
            },
            "text/plain": [
              "'New York City'"
            ]
          },
          "execution_count": 8,
          "metadata": {},
          "output_type": "execute_result"
        }
      ],
      "source": [
        "replace_special_characters_with_space(\"New_York_City\") # Testing the function"
      ]
    },
    {
      "cell_type": "code",
      "execution_count": 9,
      "metadata": {
        "colab": {
          "base_uri": "https://localhost:8080/",
          "height": 206
        },
        "execution": {
          "iopub.execute_input": "2024-05-22T09:57:46.308745Z",
          "iopub.status.busy": "2024-05-22T09:57:46.308361Z",
          "iopub.status.idle": "2024-05-22T09:57:46.340091Z",
          "shell.execute_reply": "2024-05-22T09:57:46.339243Z",
          "shell.execute_reply.started": "2024-05-22T09:57:46.308713Z"
        },
        "id": "pJwlz5YR5LQ3",
        "outputId": "3eff2651-2329-490d-f2d6-ec1bf655d40c",
        "trusted": true
      },
      "outputs": [
        {
          "data": {
            "application/vnd.google.colaboratory.intrinsic+json": {
              "repr_error": "0",
              "type": "dataframe"
            },
            "text/html": [
              "\n",
              "  <div id=\"df-5ffe1d7b-6e98-47e9-ab4e-4fbc57d18aa4\" class=\"colab-df-container\">\n",
              "    <div>\n",
              "<style scoped>\n",
              "    .dataframe tbody tr th:only-of-type {\n",
              "        vertical-align: middle;\n",
              "    }\n",
              "\n",
              "    .dataframe tbody tr th {\n",
              "        vertical-align: top;\n",
              "    }\n",
              "\n",
              "    .dataframe thead th {\n",
              "        text-align: right;\n",
              "    }\n",
              "</style>\n",
              "<table border=\"1\" class=\"dataframe\">\n",
              "  <thead>\n",
              "    <tr style=\"text-align: right;\">\n",
              "      <th></th>\n",
              "      <th>index</th>\n",
              "      <th>word</th>\n",
              "      <th>para</th>\n",
              "    </tr>\n",
              "  </thead>\n",
              "  <tbody>\n",
              "    <tr>\n",
              "      <th>27611</th>\n",
              "      <td>3523.0</td>\n",
              "      <td>New York City</td>\n",
              "      <td>NaN</td>\n",
              "    </tr>\n",
              "    <tr>\n",
              "      <th>28030</th>\n",
              "      <td>4125.0</td>\n",
              "      <td>New York City</td>\n",
              "      <td>NaN</td>\n",
              "    </tr>\n",
              "    <tr>\n",
              "      <th>33688</th>\n",
              "      <td>130301.0</td>\n",
              "      <td>Matter</td>\n",
              "      <td>NaN</td>\n",
              "    </tr>\n",
              "    <tr>\n",
              "      <th>38083</th>\n",
              "      <td>4800.0</td>\n",
              "      <td>Kanye West</td>\n",
              "      <td>NaN</td>\n",
              "    </tr>\n",
              "    <tr>\n",
              "      <th>50494</th>\n",
              "      <td>1388.0</td>\n",
              "      <td>Fr d ric Chopin</td>\n",
              "      <td>NaN</td>\n",
              "    </tr>\n",
              "  </tbody>\n",
              "</table>\n",
              "</div>\n",
              "    <div class=\"colab-df-buttons\">\n",
              "\n",
              "  <div class=\"colab-df-container\">\n",
              "    <button class=\"colab-df-convert\" onclick=\"convertToInteractive('df-5ffe1d7b-6e98-47e9-ab4e-4fbc57d18aa4')\"\n",
              "            title=\"Convert this dataframe to an interactive table.\"\n",
              "            style=\"display:none;\">\n",
              "\n",
              "  <svg xmlns=\"http://www.w3.org/2000/svg\" height=\"24px\" viewBox=\"0 -960 960 960\">\n",
              "    <path d=\"M120-120v-720h720v720H120Zm60-500h600v-160H180v160Zm220 220h160v-160H400v160Zm0 220h160v-160H400v160ZM180-400h160v-160H180v160Zm440 0h160v-160H620v160ZM180-180h160v-160H180v160Zm440 0h160v-160H620v160Z\"/>\n",
              "  </svg>\n",
              "    </button>\n",
              "\n",
              "  <style>\n",
              "    .colab-df-container {\n",
              "      display:flex;\n",
              "      gap: 12px;\n",
              "    }\n",
              "\n",
              "    .colab-df-convert {\n",
              "      background-color: #E8F0FE;\n",
              "      border: none;\n",
              "      border-radius: 50%;\n",
              "      cursor: pointer;\n",
              "      display: none;\n",
              "      fill: #1967D2;\n",
              "      height: 32px;\n",
              "      padding: 0 0 0 0;\n",
              "      width: 32px;\n",
              "    }\n",
              "\n",
              "    .colab-df-convert:hover {\n",
              "      background-color: #E2EBFA;\n",
              "      box-shadow: 0px 1px 2px rgba(60, 64, 67, 0.3), 0px 1px 3px 1px rgba(60, 64, 67, 0.15);\n",
              "      fill: #174EA6;\n",
              "    }\n",
              "\n",
              "    .colab-df-buttons div {\n",
              "      margin-bottom: 4px;\n",
              "    }\n",
              "\n",
              "    [theme=dark] .colab-df-convert {\n",
              "      background-color: #3B4455;\n",
              "      fill: #D2E3FC;\n",
              "    }\n",
              "\n",
              "    [theme=dark] .colab-df-convert:hover {\n",
              "      background-color: #434B5C;\n",
              "      box-shadow: 0px 1px 3px 1px rgba(0, 0, 0, 0.15);\n",
              "      filter: drop-shadow(0px 1px 2px rgba(0, 0, 0, 0.3));\n",
              "      fill: #FFFFFF;\n",
              "    }\n",
              "  </style>\n",
              "\n",
              "    <script>\n",
              "      const buttonEl =\n",
              "        document.querySelector('#df-5ffe1d7b-6e98-47e9-ab4e-4fbc57d18aa4 button.colab-df-convert');\n",
              "      buttonEl.style.display =\n",
              "        google.colab.kernel.accessAllowed ? 'block' : 'none';\n",
              "\n",
              "      async function convertToInteractive(key) {\n",
              "        const element = document.querySelector('#df-5ffe1d7b-6e98-47e9-ab4e-4fbc57d18aa4');\n",
              "        const dataTable =\n",
              "          await google.colab.kernel.invokeFunction('convertToInteractive',\n",
              "                                                    [key], {});\n",
              "        if (!dataTable) return;\n",
              "\n",
              "        const docLinkHtml = 'Like what you see? Visit the ' +\n",
              "          '<a target=\"_blank\" href=https://colab.research.google.com/notebooks/data_table.ipynb>data table notebook</a>'\n",
              "          + ' to learn more about interactive tables.';\n",
              "        element.innerHTML = '';\n",
              "        dataTable['output_type'] = 'display_data';\n",
              "        await google.colab.output.renderOutput(dataTable, element);\n",
              "        const docLink = document.createElement('div');\n",
              "        docLink.innerHTML = docLinkHtml;\n",
              "        element.appendChild(docLink);\n",
              "      }\n",
              "    </script>\n",
              "  </div>\n",
              "\n",
              "\n",
              "<div id=\"df-575efb95-14de-4558-8832-a3fb7f10e256\">\n",
              "  <button class=\"colab-df-quickchart\" onclick=\"quickchart('df-575efb95-14de-4558-8832-a3fb7f10e256')\"\n",
              "            title=\"Suggest charts\"\n",
              "            style=\"display:none;\">\n",
              "\n",
              "<svg xmlns=\"http://www.w3.org/2000/svg\" height=\"24px\"viewBox=\"0 0 24 24\"\n",
              "     width=\"24px\">\n",
              "    <g>\n",
              "        <path d=\"M19 3H5c-1.1 0-2 .9-2 2v14c0 1.1.9 2 2 2h14c1.1 0 2-.9 2-2V5c0-1.1-.9-2-2-2zM9 17H7v-7h2v7zm4 0h-2V7h2v10zm4 0h-2v-4h2v4z\"/>\n",
              "    </g>\n",
              "</svg>\n",
              "  </button>\n",
              "\n",
              "<style>\n",
              "  .colab-df-quickchart {\n",
              "      --bg-color: #E8F0FE;\n",
              "      --fill-color: #1967D2;\n",
              "      --hover-bg-color: #E2EBFA;\n",
              "      --hover-fill-color: #174EA6;\n",
              "      --disabled-fill-color: #AAA;\n",
              "      --disabled-bg-color: #DDD;\n",
              "  }\n",
              "\n",
              "  [theme=dark] .colab-df-quickchart {\n",
              "      --bg-color: #3B4455;\n",
              "      --fill-color: #D2E3FC;\n",
              "      --hover-bg-color: #434B5C;\n",
              "      --hover-fill-color: #FFFFFF;\n",
              "      --disabled-bg-color: #3B4455;\n",
              "      --disabled-fill-color: #666;\n",
              "  }\n",
              "\n",
              "  .colab-df-quickchart {\n",
              "    background-color: var(--bg-color);\n",
              "    border: none;\n",
              "    border-radius: 50%;\n",
              "    cursor: pointer;\n",
              "    display: none;\n",
              "    fill: var(--fill-color);\n",
              "    height: 32px;\n",
              "    padding: 0;\n",
              "    width: 32px;\n",
              "  }\n",
              "\n",
              "  .colab-df-quickchart:hover {\n",
              "    background-color: var(--hover-bg-color);\n",
              "    box-shadow: 0 1px 2px rgba(60, 64, 67, 0.3), 0 1px 3px 1px rgba(60, 64, 67, 0.15);\n",
              "    fill: var(--button-hover-fill-color);\n",
              "  }\n",
              "\n",
              "  .colab-df-quickchart-complete:disabled,\n",
              "  .colab-df-quickchart-complete:disabled:hover {\n",
              "    background-color: var(--disabled-bg-color);\n",
              "    fill: var(--disabled-fill-color);\n",
              "    box-shadow: none;\n",
              "  }\n",
              "\n",
              "  .colab-df-spinner {\n",
              "    border: 2px solid var(--fill-color);\n",
              "    border-color: transparent;\n",
              "    border-bottom-color: var(--fill-color);\n",
              "    animation:\n",
              "      spin 1s steps(1) infinite;\n",
              "  }\n",
              "\n",
              "  @keyframes spin {\n",
              "    0% {\n",
              "      border-color: transparent;\n",
              "      border-bottom-color: var(--fill-color);\n",
              "      border-left-color: var(--fill-color);\n",
              "    }\n",
              "    20% {\n",
              "      border-color: transparent;\n",
              "      border-left-color: var(--fill-color);\n",
              "      border-top-color: var(--fill-color);\n",
              "    }\n",
              "    30% {\n",
              "      border-color: transparent;\n",
              "      border-left-color: var(--fill-color);\n",
              "      border-top-color: var(--fill-color);\n",
              "      border-right-color: var(--fill-color);\n",
              "    }\n",
              "    40% {\n",
              "      border-color: transparent;\n",
              "      border-right-color: var(--fill-color);\n",
              "      border-top-color: var(--fill-color);\n",
              "    }\n",
              "    60% {\n",
              "      border-color: transparent;\n",
              "      border-right-color: var(--fill-color);\n",
              "    }\n",
              "    80% {\n",
              "      border-color: transparent;\n",
              "      border-right-color: var(--fill-color);\n",
              "      border-bottom-color: var(--fill-color);\n",
              "    }\n",
              "    90% {\n",
              "      border-color: transparent;\n",
              "      border-bottom-color: var(--fill-color);\n",
              "    }\n",
              "  }\n",
              "</style>\n",
              "\n",
              "  <script>\n",
              "    async function quickchart(key) {\n",
              "      const quickchartButtonEl =\n",
              "        document.querySelector('#' + key + ' button');\n",
              "      quickchartButtonEl.disabled = true;  // To prevent multiple clicks.\n",
              "      quickchartButtonEl.classList.add('colab-df-spinner');\n",
              "      try {\n",
              "        const charts = await google.colab.kernel.invokeFunction(\n",
              "            'suggestCharts', [key], {});\n",
              "      } catch (error) {\n",
              "        console.error('Error during call to suggestCharts:', error);\n",
              "      }\n",
              "      quickchartButtonEl.classList.remove('colab-df-spinner');\n",
              "      quickchartButtonEl.classList.add('colab-df-quickchart-complete');\n",
              "    }\n",
              "    (() => {\n",
              "      let quickchartButtonEl =\n",
              "        document.querySelector('#df-575efb95-14de-4558-8832-a3fb7f10e256 button');\n",
              "      quickchartButtonEl.style.display =\n",
              "        google.colab.kernel.accessAllowed ? 'block' : 'none';\n",
              "    })();\n",
              "  </script>\n",
              "</div>\n",
              "\n",
              "    </div>\n",
              "  </div>\n"
            ],
            "text/plain": [
              "          index             word para\n",
              "27611    3523.0    New York City  NaN\n",
              "28030    4125.0    New York City  NaN\n",
              "33688  130301.0           Matter  NaN\n",
              "38083    4800.0       Kanye West  NaN\n",
              "50494    1388.0  Fr d ric Chopin  NaN"
            ]
          },
          "execution_count": 9,
          "metadata": {},
          "output_type": "execute_result"
        }
      ],
      "source": [
        "paragraph[:][paragraph['para'].isna() + paragraph['word'].isna()] # Checking for missing values"
      ]
    },
    {
      "cell_type": "code",
      "execution_count": 10,
      "metadata": {
        "execution": {
          "iopub.execute_input": "2024-05-22T09:57:46.344273Z",
          "iopub.status.busy": "2024-05-22T09:57:46.343705Z",
          "iopub.status.idle": "2024-05-22T09:57:46.368509Z",
          "shell.execute_reply": "2024-05-22T09:57:46.367612Z",
          "shell.execute_reply.started": "2024-05-22T09:57:46.344247Z"
        },
        "id": "AFamyo2K5LQ4",
        "trusted": true
      },
      "outputs": [],
      "source": [
        "paragraph_cleaned = paragraph.dropna()"
      ]
    },
    {
      "cell_type": "code",
      "execution_count": 11,
      "metadata": {
        "colab": {
          "base_uri": "https://localhost:8080/",
          "height": 53
        },
        "execution": {
          "iopub.execute_input": "2024-05-22T09:57:46.370103Z",
          "iopub.status.busy": "2024-05-22T09:57:46.369719Z",
          "iopub.status.idle": "2024-05-22T09:57:46.394254Z",
          "shell.execute_reply": "2024-05-22T09:57:46.393413Z",
          "shell.execute_reply.started": "2024-05-22T09:57:46.370077Z"
        },
        "id": "CFHOwlyt5LQ4",
        "outputId": "433d3992-fa64-4fb9-e80e-c57b0e67e4b3",
        "trusted": true
      },
      "outputs": [
        {
          "data": {
            "application/vnd.google.colaboratory.intrinsic+json": {
              "repr_error": "Out of range float values are not JSON compliant: nan",
              "type": "dataframe"
            },
            "text/html": [
              "\n",
              "  <div id=\"df-45c04cda-654e-463c-a192-470f1a43dc07\" class=\"colab-df-container\">\n",
              "    <div>\n",
              "<style scoped>\n",
              "    .dataframe tbody tr th:only-of-type {\n",
              "        vertical-align: middle;\n",
              "    }\n",
              "\n",
              "    .dataframe tbody tr th {\n",
              "        vertical-align: top;\n",
              "    }\n",
              "\n",
              "    .dataframe thead th {\n",
              "        text-align: right;\n",
              "    }\n",
              "</style>\n",
              "<table border=\"1\" class=\"dataframe\">\n",
              "  <thead>\n",
              "    <tr style=\"text-align: right;\">\n",
              "      <th></th>\n",
              "      <th>index</th>\n",
              "      <th>word</th>\n",
              "      <th>para</th>\n",
              "    </tr>\n",
              "  </thead>\n",
              "  <tbody>\n",
              "  </tbody>\n",
              "</table>\n",
              "</div>\n",
              "    <div class=\"colab-df-buttons\">\n",
              "\n",
              "  <div class=\"colab-df-container\">\n",
              "    <button class=\"colab-df-convert\" onclick=\"convertToInteractive('df-45c04cda-654e-463c-a192-470f1a43dc07')\"\n",
              "            title=\"Convert this dataframe to an interactive table.\"\n",
              "            style=\"display:none;\">\n",
              "\n",
              "  <svg xmlns=\"http://www.w3.org/2000/svg\" height=\"24px\" viewBox=\"0 -960 960 960\">\n",
              "    <path d=\"M120-120v-720h720v720H120Zm60-500h600v-160H180v160Zm220 220h160v-160H400v160Zm0 220h160v-160H400v160ZM180-400h160v-160H180v160Zm440 0h160v-160H620v160ZM180-180h160v-160H180v160Zm440 0h160v-160H620v160Z\"/>\n",
              "  </svg>\n",
              "    </button>\n",
              "\n",
              "  <style>\n",
              "    .colab-df-container {\n",
              "      display:flex;\n",
              "      gap: 12px;\n",
              "    }\n",
              "\n",
              "    .colab-df-convert {\n",
              "      background-color: #E8F0FE;\n",
              "      border: none;\n",
              "      border-radius: 50%;\n",
              "      cursor: pointer;\n",
              "      display: none;\n",
              "      fill: #1967D2;\n",
              "      height: 32px;\n",
              "      padding: 0 0 0 0;\n",
              "      width: 32px;\n",
              "    }\n",
              "\n",
              "    .colab-df-convert:hover {\n",
              "      background-color: #E2EBFA;\n",
              "      box-shadow: 0px 1px 2px rgba(60, 64, 67, 0.3), 0px 1px 3px 1px rgba(60, 64, 67, 0.15);\n",
              "      fill: #174EA6;\n",
              "    }\n",
              "\n",
              "    .colab-df-buttons div {\n",
              "      margin-bottom: 4px;\n",
              "    }\n",
              "\n",
              "    [theme=dark] .colab-df-convert {\n",
              "      background-color: #3B4455;\n",
              "      fill: #D2E3FC;\n",
              "    }\n",
              "\n",
              "    [theme=dark] .colab-df-convert:hover {\n",
              "      background-color: #434B5C;\n",
              "      box-shadow: 0px 1px 3px 1px rgba(0, 0, 0, 0.15);\n",
              "      filter: drop-shadow(0px 1px 2px rgba(0, 0, 0, 0.3));\n",
              "      fill: #FFFFFF;\n",
              "    }\n",
              "  </style>\n",
              "\n",
              "    <script>\n",
              "      const buttonEl =\n",
              "        document.querySelector('#df-45c04cda-654e-463c-a192-470f1a43dc07 button.colab-df-convert');\n",
              "      buttonEl.style.display =\n",
              "        google.colab.kernel.accessAllowed ? 'block' : 'none';\n",
              "\n",
              "      async function convertToInteractive(key) {\n",
              "        const element = document.querySelector('#df-45c04cda-654e-463c-a192-470f1a43dc07');\n",
              "        const dataTable =\n",
              "          await google.colab.kernel.invokeFunction('convertToInteractive',\n",
              "                                                    [key], {});\n",
              "        if (!dataTable) return;\n",
              "\n",
              "        const docLinkHtml = 'Like what you see? Visit the ' +\n",
              "          '<a target=\"_blank\" href=https://colab.research.google.com/notebooks/data_table.ipynb>data table notebook</a>'\n",
              "          + ' to learn more about interactive tables.';\n",
              "        element.innerHTML = '';\n",
              "        dataTable['output_type'] = 'display_data';\n",
              "        await google.colab.output.renderOutput(dataTable, element);\n",
              "        const docLink = document.createElement('div');\n",
              "        docLink.innerHTML = docLinkHtml;\n",
              "        element.appendChild(docLink);\n",
              "      }\n",
              "    </script>\n",
              "  </div>\n",
              "\n",
              "\n",
              "    </div>\n",
              "  </div>\n"
            ],
            "text/plain": [
              "Empty DataFrame\n",
              "Columns: [index, word, para]\n",
              "Index: []"
            ]
          },
          "execution_count": 11,
          "metadata": {},
          "output_type": "execute_result"
        }
      ],
      "source": [
        "paragraph_cleaned[:][paragraph_cleaned['para'].isna() + paragraph_cleaned['word'].isna()]"
      ]
    },
    {
      "cell_type": "code",
      "execution_count": 12,
      "metadata": {
        "colab": {
          "base_uri": "https://localhost:8080/"
        },
        "execution": {
          "iopub.execute_input": "2024-05-22T09:57:46.395714Z",
          "iopub.status.busy": "2024-05-22T09:57:46.395391Z",
          "iopub.status.idle": "2024-05-22T09:57:46.424560Z",
          "shell.execute_reply": "2024-05-22T09:57:46.423541Z",
          "shell.execute_reply.started": "2024-05-22T09:57:46.395684Z"
        },
        "id": "hK5aAJu75LQ5",
        "outputId": "b8680433-367a-419d-f1ac-e91f130ba24f",
        "trusted": true
      },
      "outputs": [
        {
          "data": {
            "text/plain": [
              "word\n",
              "Queen Victoria                                    607\n",
              "New York City                                     560\n",
              "American Idol                                     525\n",
              "Beyonc                                            523\n",
              "Fr d ric Chopin                                   488\n",
              "                                                 ... \n",
              "Animal                                             53\n",
              "Letter case                                        42\n",
              "Race and ethnicity in the United States Census     38\n",
              "Pitch  music                                       22\n",
              "nan                                                 4\n",
              "Name: count, Length: 362, dtype: int64"
            ]
          },
          "execution_count": 12,
          "metadata": {},
          "output_type": "execute_result"
        }
      ],
      "source": [
        "paragraph_cleaned['word'].value_counts()"
      ]
    },
    {
      "cell_type": "code",
      "execution_count": 13,
      "metadata": {
        "execution": {
          "iopub.execute_input": "2024-05-22T10:11:12.779872Z",
          "iopub.status.busy": "2024-05-22T10:11:12.779479Z",
          "iopub.status.idle": "2024-05-22T10:11:12.807264Z",
          "shell.execute_reply": "2024-05-22T10:11:12.806299Z",
          "shell.execute_reply.started": "2024-05-22T10:11:12.779840Z"
        },
        "id": "99a1u7Cu5LQ5",
        "trusted": true
      },
      "outputs": [],
      "source": [
        "paragraph_cleaned.loc[:,'word'] = paragraph_cleaned['word'].str.lower() # converting all words to lower case"
      ]
    },
    {
      "cell_type": "code",
      "execution_count": 14,
      "metadata": {
        "colab": {
          "base_uri": "https://localhost:8080/"
        },
        "execution": {
          "iopub.execute_input": "2024-05-22T10:11:21.330052Z",
          "iopub.status.busy": "2024-05-22T10:11:21.329302Z",
          "iopub.status.idle": "2024-05-22T10:11:21.353006Z",
          "shell.execute_reply": "2024-05-22T10:11:21.351883Z",
          "shell.execute_reply.started": "2024-05-22T10:11:21.330020Z"
        },
        "id": "oagJf35z5LQ6",
        "outputId": "78379d16-4b80-4202-b147-e29ec7b0116c",
        "trusted": true
      },
      "outputs": [
        {
          "data": {
            "text/plain": [
              "word\n",
              "queen victoria                                    607\n",
              "new york city                                     560\n",
              "american idol                                     525\n",
              "beyonc                                            523\n",
              "fr d ric chopin                                   488\n",
              "                                                 ... \n",
              "animal                                             53\n",
              "letter case                                        42\n",
              "race and ethnicity in the united states census     38\n",
              "pitch  music                                       22\n",
              "nan                                                 4\n",
              "Name: count, Length: 362, dtype: int64"
            ]
          },
          "execution_count": 14,
          "metadata": {},
          "output_type": "execute_result"
        }
      ],
      "source": [
        "paragraph_cleaned['word'].value_counts()"
      ]
    },
    {
      "cell_type": "code",
      "execution_count": 17,
      "metadata": {
        "execution": {
          "iopub.execute_input": "2024-05-22T09:57:47.048858Z",
          "iopub.status.busy": "2024-05-22T09:57:47.048583Z",
          "iopub.status.idle": "2024-05-22T09:57:47.053507Z",
          "shell.execute_reply": "2024-05-22T09:57:47.052377Z",
          "shell.execute_reply.started": "2024-05-22T09:57:47.048834Z"
        },
        "id": "jKdYBiDj5LQ7",
        "trusted": true
      },
      "outputs": [],
      "source": [
        "vectorizer = TfidfVectorizer( stop_words='english') # Creating a TfidfVectorizer object"
      ]
    },
    {
      "cell_type": "code",
      "execution_count": 18,
      "metadata": {
        "execution": {
          "iopub.execute_input": "2024-05-22T09:57:47.055052Z",
          "iopub.status.busy": "2024-05-22T09:57:47.054788Z",
          "iopub.status.idle": "2024-05-22T09:57:47.067541Z",
          "shell.execute_reply": "2024-05-22T09:57:47.066772Z",
          "shell.execute_reply.started": "2024-05-22T09:57:47.055030Z"
        },
        "id": "3IfnDWcR5LQ7",
        "trusted": true
      },
      "outputs": [],
      "source": [
        "document = paragraph_cleaned['para'].tolist() # Converting the paragraph column to a list"
      ]
    },
    {
      "cell_type": "code",
      "execution_count": 20,
      "metadata": {
        "colab": {
          "base_uri": "https://localhost:8080/",
          "height": 75
        },
        "execution": {
          "iopub.execute_input": "2024-05-22T09:57:47.081505Z",
          "iopub.status.busy": "2024-05-22T09:57:47.081057Z",
          "iopub.status.idle": "2024-05-22T09:57:55.598849Z",
          "shell.execute_reply": "2024-05-22T09:57:55.597911Z",
          "shell.execute_reply.started": "2024-05-22T09:57:47.081474Z"
        },
        "id": "SqjV8ArE5LQ8",
        "outputId": "8494fe32-c3ba-4052-e763-9b82827058ad",
        "trusted": true
      },
      "outputs": [
        {
          "data": {
            "text/html": [
              "<style>#sk-container-id-1 {color: black;background-color: white;}#sk-container-id-1 pre{padding: 0;}#sk-container-id-1 div.sk-toggleable {background-color: white;}#sk-container-id-1 label.sk-toggleable__label {cursor: pointer;display: block;width: 100%;margin-bottom: 0;padding: 0.3em;box-sizing: border-box;text-align: center;}#sk-container-id-1 label.sk-toggleable__label-arrow:before {content: \"▸\";float: left;margin-right: 0.25em;color: #696969;}#sk-container-id-1 label.sk-toggleable__label-arrow:hover:before {color: black;}#sk-container-id-1 div.sk-estimator:hover label.sk-toggleable__label-arrow:before {color: black;}#sk-container-id-1 div.sk-toggleable__content {max-height: 0;max-width: 0;overflow: hidden;text-align: left;background-color: #f0f8ff;}#sk-container-id-1 div.sk-toggleable__content pre {margin: 0.2em;color: black;border-radius: 0.25em;background-color: #f0f8ff;}#sk-container-id-1 input.sk-toggleable__control:checked~div.sk-toggleable__content {max-height: 200px;max-width: 100%;overflow: auto;}#sk-container-id-1 input.sk-toggleable__control:checked~label.sk-toggleable__label-arrow:before {content: \"▾\";}#sk-container-id-1 div.sk-estimator input.sk-toggleable__control:checked~label.sk-toggleable__label {background-color: #d4ebff;}#sk-container-id-1 div.sk-label input.sk-toggleable__control:checked~label.sk-toggleable__label {background-color: #d4ebff;}#sk-container-id-1 input.sk-hidden--visually {border: 0;clip: rect(1px 1px 1px 1px);clip: rect(1px, 1px, 1px, 1px);height: 1px;margin: -1px;overflow: hidden;padding: 0;position: absolute;width: 1px;}#sk-container-id-1 div.sk-estimator {font-family: monospace;background-color: #f0f8ff;border: 1px dotted black;border-radius: 0.25em;box-sizing: border-box;margin-bottom: 0.5em;}#sk-container-id-1 div.sk-estimator:hover {background-color: #d4ebff;}#sk-container-id-1 div.sk-parallel-item::after {content: \"\";width: 100%;border-bottom: 1px solid gray;flex-grow: 1;}#sk-container-id-1 div.sk-label:hover label.sk-toggleable__label {background-color: #d4ebff;}#sk-container-id-1 div.sk-serial::before {content: \"\";position: absolute;border-left: 1px solid gray;box-sizing: border-box;top: 0;bottom: 0;left: 50%;z-index: 0;}#sk-container-id-1 div.sk-serial {display: flex;flex-direction: column;align-items: center;background-color: white;padding-right: 0.2em;padding-left: 0.2em;position: relative;}#sk-container-id-1 div.sk-item {position: relative;z-index: 1;}#sk-container-id-1 div.sk-parallel {display: flex;align-items: stretch;justify-content: center;background-color: white;position: relative;}#sk-container-id-1 div.sk-item::before, #sk-container-id-1 div.sk-parallel-item::before {content: \"\";position: absolute;border-left: 1px solid gray;box-sizing: border-box;top: 0;bottom: 0;left: 50%;z-index: -1;}#sk-container-id-1 div.sk-parallel-item {display: flex;flex-direction: column;z-index: 1;position: relative;background-color: white;}#sk-container-id-1 div.sk-parallel-item:first-child::after {align-self: flex-end;width: 50%;}#sk-container-id-1 div.sk-parallel-item:last-child::after {align-self: flex-start;width: 50%;}#sk-container-id-1 div.sk-parallel-item:only-child::after {width: 0;}#sk-container-id-1 div.sk-dashed-wrapped {border: 1px dashed gray;margin: 0 0.4em 0.5em 0.4em;box-sizing: border-box;padding-bottom: 0.4em;background-color: white;}#sk-container-id-1 div.sk-label label {font-family: monospace;font-weight: bold;display: inline-block;line-height: 1.2em;}#sk-container-id-1 div.sk-label-container {text-align: center;}#sk-container-id-1 div.sk-container {/* jupyter's `normalize.less` sets `[hidden] { display: none; }` but bootstrap.min.css set `[hidden] { display: none !important; }` so we also need the `!important` here to be able to override the default hidden behavior on the sphinx rendered scikit-learn.org. See: https://github.com/scikit-learn/scikit-learn/issues/21755 */display: inline-block !important;position: relative;}#sk-container-id-1 div.sk-text-repr-fallback {display: none;}</style><div id=\"sk-container-id-1\" class=\"sk-top-container\"><div class=\"sk-text-repr-fallback\"><pre>TfidfVectorizer(stop_words=&#x27;english&#x27;)</pre><b>In a Jupyter environment, please rerun this cell to show the HTML representation or trust the notebook. <br />On GitHub, the HTML representation is unable to render, please try loading this page with nbviewer.org.</b></div><div class=\"sk-container\" hidden><div class=\"sk-item\"><div class=\"sk-estimator sk-toggleable\"><input class=\"sk-toggleable__control sk-hidden--visually\" id=\"sk-estimator-id-1\" type=\"checkbox\" checked><label for=\"sk-estimator-id-1\" class=\"sk-toggleable__label sk-toggleable__label-arrow\">TfidfVectorizer</label><div class=\"sk-toggleable__content\"><pre>TfidfVectorizer(stop_words=&#x27;english&#x27;)</pre></div></div></div></div></div>"
            ],
            "text/plain": [
              "TfidfVectorizer(stop_words='english')"
            ]
          },
          "execution_count": 20,
          "metadata": {},
          "output_type": "execute_result"
        }
      ],
      "source": [
        "vectorizer.fit(document)"
      ]
    },
    {
      "cell_type": "code",
      "execution_count": 21,
      "metadata": {
        "execution": {
          "iopub.execute_input": "2024-05-22T09:57:55.600468Z",
          "iopub.status.busy": "2024-05-22T09:57:55.600102Z",
          "iopub.status.idle": "2024-05-22T09:58:04.145955Z",
          "shell.execute_reply": "2024-05-22T09:58:04.144927Z",
          "shell.execute_reply.started": "2024-05-22T09:57:55.600431Z"
        },
        "id": "BL_d8pX85LQ8",
        "trusted": true
      },
      "outputs": [],
      "source": [
        "tfidf_vectors = vectorizer.transform(document) # Transforming the paragraphs to vectors"
      ]
    },
    {
      "cell_type": "code",
      "execution_count": 22,
      "metadata": {
        "execution": {
          "iopub.execute_input": "2024-05-22T09:58:04.147485Z",
          "iopub.status.busy": "2024-05-22T09:58:04.147168Z",
          "iopub.status.idle": "2024-05-22T09:58:04.645531Z",
          "shell.execute_reply": "2024-05-22T09:58:04.644500Z",
          "shell.execute_reply.started": "2024-05-22T09:58:04.147459Z"
        },
        "id": "M3B3UXzt5LQ8",
        "trusted": true
      },
      "outputs": [],
      "source": [
        "tfidf_vectors_word = vectorizer.transform(paragraph_cleaned['word']) # Transforming the words to vectors"
      ]
    },
    {
      "cell_type": "code",
      "execution_count": 23,
      "metadata": {
        "execution": {
          "iopub.execute_input": "2024-05-22T09:58:19.537255Z",
          "iopub.status.busy": "2024-05-22T09:58:19.536985Z",
          "iopub.status.idle": "2024-05-22T09:58:19.594456Z",
          "shell.execute_reply": "2024-05-22T09:58:19.593484Z",
          "shell.execute_reply.started": "2024-05-22T09:58:19.537232Z"
        },
        "id": "ya1_bFss5LQ9",
        "trusted": true
      },
      "outputs": [],
      "source": [
        "feature_names = vectorizer.get_feature_names_out() # Getting the feature names"
      ]
    },
    {
      "cell_type": "code",
      "execution_count": 24,
      "metadata": {
        "colab": {
          "base_uri": "https://localhost:8080/"
        },
        "execution": {
          "iopub.execute_input": "2024-05-22T09:58:34.034949Z",
          "iopub.status.busy": "2024-05-22T09:58:34.034177Z",
          "iopub.status.idle": "2024-05-22T09:58:34.041085Z",
          "shell.execute_reply": "2024-05-22T09:58:34.040088Z",
          "shell.execute_reply.started": "2024-05-22T09:58:34.034914Z"
        },
        "id": "PyeYbgJk5LQ-",
        "outputId": "af631016-ddc3-4d0c-c780-6b609dcabdd3",
        "trusted": true
      },
      "outputs": [
        {
          "data": {
            "text/plain": [
              "array(['00', '000', '0000', ..., 'ﬁnding', 'ﬁve', '𐀞𐀊𐀍𐀚'], dtype=object)"
            ]
          },
          "execution_count": 24,
          "metadata": {},
          "output_type": "execute_result"
        }
      ],
      "source": [
        "feature_names"
      ]
    },
    {
      "cell_type": "markdown",
      "metadata": {
        "id": "vU9PZU8VMPCE"
      },
      "source": [
        "Defining the working of Retriever"
      ]
    },
    {
      "cell_type": "code",
      "execution_count": 164,
      "metadata": {
        "execution": {
          "iopub.execute_input": "2024-05-22T10:45:01.561759Z",
          "iopub.status.busy": "2024-05-22T10:45:01.561412Z",
          "iopub.status.idle": "2024-05-22T10:45:01.569528Z",
          "shell.execute_reply": "2024-05-22T10:45:01.568519Z",
          "shell.execute_reply.started": "2024-05-22T10:45:01.561734Z"
        },
        "id": "2hSE0F8v5LQ-",
        "trusted": true
      },
      "outputs": [],
      "source": [
        "def Retriever(query):\n",
        "    transformed_query = vectorizer.transform(query)\n",
        "    transformed_query_array = transformed_query.toarray().squeeze()\n",
        "    sorted_transformed_query = np.sort(transformed_query_array)\n",
        "    similarity = list()\n",
        "    indexes = list()\n",
        "    x = -1\n",
        "    while sorted_transformed_query[x] != 0:\n",
        "        word = feature_names[np.where(transformed_query_array==sorted_transformed_query[x])[0][0]]\n",
        "\n",
        "        index= paragraph_cleaned.index[paragraph_cleaned['word'].str.contains(word)].tolist()\n",
        "        indexes.extend(index)\n",
        "        for y in index:\n",
        "            cosine_sim = cosine_similarity(tfidf_vectors[y], transformed_query)\n",
        "            similarity.append(float(cosine_sim))\n",
        "\n",
        "        x -=1\n",
        "    return similarity,indexes\n"
      ]
    },
    {
      "cell_type": "markdown",
      "metadata": {
        "id": "Z7WYEvKfMUig"
      },
      "source": [
        "Function that will preprocess the input according to T5 transformer"
      ]
    },
    {
      "cell_type": "code",
      "execution_count": 166,
      "metadata": {
        "id": "-eVLJZwq8IQK"
      },
      "outputs": [],
      "source": [
        "def preprocess_context_question(context, question):\n",
        "  # Concatenate retrieved passages and question with a delimiter (e.g., \"[SEP]\")\n",
        "  combined_text = context + \" [SEP] \" + question\n",
        "  # Tokenize the text using the T5 tokenizer\n",
        "  input_ids = tokenizer.encode(combined_text, return_tensors=\"pt\")\n",
        "  return input_ids\n"
      ]
    },
    {
      "cell_type": "code",
      "execution_count": 178,
      "metadata": {
        "id": "VgcaHyJwA3fP"
      },
      "outputs": [],
      "source": [
        "# Takes question as the input , searches the context in paragraph_clean and formats the output according to input of T5 transformer\n",
        "# Returns none if the question cannot be answered\n",
        "def Query(question):\n",
        "  similarity,indexes = Retriever([question])\n",
        "  dict1 = {'similarity':similarity,'indexes':indexes}\n",
        "  SimIndex = pd.DataFrame(dict1)\n",
        "  SimIndex.drop_duplicates(inplace=True)\n",
        "  SimIndex.sort_values(by = 'similarity',inplace= True,ascending =False)\n",
        "  if len(SimIndex['indexes'])<5:\n",
        "      return None\n",
        "  index_of_context = list(SimIndex['indexes'][:5])\n",
        "  context  = \"\"\n",
        "  for x in index_of_context:\n",
        "      context+=paragraph_cleaned['para'][x]\n",
        "  print(\"Context: \",context)\n",
        "  return preprocess_context_question(context, question)"
      ]
    },
    {
      "cell_type": "code",
      "execution_count": 176,
      "metadata": {
        "colab": {
          "base_uri": "https://localhost:8080/"
        },
        "id": "-7CSy_ZQ8dqa",
        "outputId": "d01ca37c-e976-4c0b-f270-aae1d94fd491"
      },
      "outputs": [
        {
          "name": "stderr",
          "output_type": "stream",
          "text": [
            "Special tokens have been added in the vocabulary, make sure the associated word embeddings are fine-tuned or trained.\n"
          ]
        }
      ],
      "source": [
        "# Load pre-trained T5 model and tokenizer\n",
        "model_name = \"t5-base\"\n",
        "tokenizer = T5Tokenizer.from_pretrained(model_name)\n",
        "model = T5ForConditionalGeneration.from_pretrained(model_name)"
      ]
    },
    {
      "cell_type": "code",
      "execution_count": 183,
      "metadata": {
        "colab": {
          "base_uri": "https://localhost:8080/"
        },
        "id": "x8fcoVRK5LRB",
        "outputId": "ff8d9aa0-ca0f-4559-f703-be1a48c54f41"
      },
      "outputs": [
        {
          "name": "stderr",
          "output_type": "stream",
          "text": [
            "<ipython-input-164-8aecfc76a757>:19: DeprecationWarning: Conversion of an array with ndim > 0 to a scalar is deprecated, and will error in future. Ensure you extract a single element from your array before performing this operation. (Deprecated NumPy 1.25.)\n",
            "  similarity.append(float(cosine_sim))\n"
          ]
        },
        {
          "name": "stdout",
          "output_type": "stream",
          "text": [
            "Context:  The major and native language spoken in the Punjab is Punjabi (which is written in a Shahmukhi script in Pakistan) and Punjabis comprise the largest ethnic group in country. Punjabi is the provincial language of Punjab. There is not a single district in the province where Punjabi language is mother-tongue of less than 89% of population. The language is not given any official recognition in the Constitution of Pakistan at the national level. Punjabis themselves are a heterogeneous group comprising different tribes, clans (Urdu: برادری‎) and communities. In Pakistani Punjab these tribes have more to do with traditional occupations such as blacksmiths or artisans as opposed to rigid social stratifications. Punjabi dialects spoken in the province include Majhi (Standard), Saraiki and Hindko. Saraiki is mostly spoken in south Punjab, and Pashto, spoken in some parts of north west Punjab, especially in Attock District and Mianwali District.The Government of Punjab is a provincial government in the federal structure of Pakistan, is based in Lahore, the capital of the Punjab Province. The Chief Minister of Punjab (CM) is elected by the Provincial Assembly of the Punjab to serve as the head of the provincial government in Punjab, Pakistan. The current Chief Minister is Shahbaz Sharif, who became the Chief Minister of Punjab as being restored after Governor's rule starting from 25 February 2009 to 30 March 2009. Thereafter got re-elected as a result of 11 May 2013 elections. The Provincial Assembly of the Punjab is a unicameral legislature of elected representatives of the province of Punjab, which is located in Lahore in eastern Pakistan. The Assembly was established under Article 106 of the Constitution of Pakistan as having a total of 371 seats, with 66 seats reserved for women and eight reserved for non-Muslims.The Government of Punjab is a provincial government in the federal structure of Pakistan, is based in Lahore, the capital of the Punjab Province. The Chief Minister of Punjab (CM) is elected by the Provincial Assembly of the Punjab to serve as the head of the provincial government in Punjab, Pakistan. The current Chief Minister is Shahbaz Sharif, who became the Chief Minister of Punjab as being restored after Governor's rule starting from 25 February 2009 to 30 March 2009. Thereafter got re-elected as a result of 11 May 2013 elections. The Provincial Assembly of the Punjab is a unicameral legislature of elected representatives of the province of Punjab, which is located in Lahore in eastern Pakistan. The Assembly was established under Article 106 of the Constitution of Pakistan as having a total of 371 seats, with 66 seats reserved for women and eight reserved for non-Muslims.The Government of Punjab is a provincial government in the federal structure of Pakistan, is based in Lahore, the capital of the Punjab Province. The Chief Minister of Punjab (CM) is elected by the Provincial Assembly of the Punjab to serve as the head of the provincial government in Punjab, Pakistan. The current Chief Minister is Shahbaz Sharif, who became the Chief Minister of Punjab as being restored after Governor's rule starting from 25 February 2009 to 30 March 2009. Thereafter got re-elected as a result of 11 May 2013 elections. The Provincial Assembly of the Punjab is a unicameral legislature of elected representatives of the province of Punjab, which is located in Lahore in eastern Pakistan. The Assembly was established under Article 106 of the Constitution of Pakistan as having a total of 371 seats, with 66 seats reserved for women and eight reserved for non-Muslims.The major and native language spoken in the Punjab is Punjabi (which is written in a Shahmukhi script in Pakistan) and Punjabis comprise the largest ethnic group in country. Punjabi is the provincial language of Punjab. There is not a single district in the province where Punjabi language is mother-tongue of less than 89% of population. The language is not given any official recognition in the Constitution of Pakistan at the national level. Punjabis themselves are a heterogeneous group comprising different tribes, clans (Urdu: برادری‎) and communities. In Pakistani Punjab these tribes have more to do with traditional occupations such as blacksmiths or artisans as opposed to rigid social stratifications. Punjabi dialects spoken in the province include Majhi (Standard), Saraiki and Hindko. Saraiki is mostly spoken in south Punjab, and Pashto, spoken in some parts of north west Punjab, especially in Attock District and Mianwali District.\n",
            "Question: What is the native language of punjab\n",
            "Answer: the largest ethnic group in country. Punjabi is the major and native language spoken in the\n"
          ]
        }
      ],
      "source": [
        "def answer_using_t5(question):\n",
        "\n",
        "  # Preprocess context and question\n",
        "  input_ids = Query(question)\n",
        "  if input_ids ==None:\n",
        "    return \"Sorry, cannot give answer, insufficient information\"\n",
        "  # Generate the answer using the model\n",
        "  output = model.generate(input_ids)\n",
        "\n",
        "  # Decode the generated answer tokens back to text\n",
        "  answer = tokenizer.decode(output[0], skip_special_tokens=True)\n",
        "  return answer\n",
        "question = 'What is the native language of punjab'\n",
        "answer = answer_using_t5(question)\n",
        "print(\"Question:\", question)\n",
        "print(\"Answer:\", answer) # Answer is \"Sorry, cannot give answer, insufficient information\" if the model cannot answer the question."
      ]
    }
  ],
  "metadata": {
    "colab": {
      "provenance": []
    },
    "kaggle": {
      "accelerator": "gpu",
      "dataSources": [
        {
          "datasetId": 5039699,
          "sourceId": 8455905,
          "sourceType": "datasetVersion"
        },
        {
          "datasetId": 5051049,
          "sourceId": 8470895,
          "sourceType": "datasetVersion"
        }
      ],
      "dockerImageVersionId": 30699,
      "isGpuEnabled": true,
      "isInternetEnabled": true,
      "language": "python",
      "sourceType": "notebook"
    },
    "kernelspec": {
      "display_name": "Python 3",
      "language": "python",
      "name": "python3"
    },
    "language_info": {
      "codemirror_mode": {
        "name": "ipython",
        "version": 3
      },
      "file_extension": ".py",
      "mimetype": "text/x-python",
      "name": "python",
      "nbconvert_exporter": "python",
      "pygments_lexer": "ipython3",
      "version": "3.10.13"
    }
  },
  "nbformat": 4,
  "nbformat_minor": 0
}
